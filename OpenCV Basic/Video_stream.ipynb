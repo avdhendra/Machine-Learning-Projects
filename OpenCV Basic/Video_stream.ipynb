{
 "cells": [
  {
   "cell_type": "code",
   "execution_count": null,
   "metadata": {},
   "outputs": [],
   "source": [
    "import cv2\n",
    "\n",
    "cap=cv2.VideoCapture(0)\n",
    "face_cascade=cv2.CascadeClassifier(\"haarcascade_frontalface_alt.xml\")\n",
    "\n",
    "while True:\n",
    "    ret,frame=cap.read()\n",
    "    gray_frame=cv2.cvtColor(frame,cv2.COLOR_BGRRGB)\n",
    "    if ret==False:\n",
    "        continue\n",
    "\n",
    "    faces=face_cascade.detectMultiScale(gray_frame,1.3,5) #scale factor and min neighbours\n",
    "\n",
    "\n",
    "    for(x,y,w,h) in faces:\n",
    "        cv2.rectangle(frame(x,y),(x+w,y+h),(255,0,0),2)\n",
    "\n",
    "\n",
    "    cv2.imshow(\"Video frame\",gray_frame)\n",
    "   #Wait for user input  -q then you will stop the loop\n",
    "    key_pressed=cv2.waitKey(1) &0xFF\n",
    "#ord gave the ascii value of the character\n",
    "    if key_pressed ==ord('q'):\n",
    "        break\n",
    "cap.release()\n",
    "cv2.destroyAllWindows()\n",
    "\n",
    "'''\n",
    "ScaleFactor-Parameter specifying how much the image size is reduced at each image scale\n",
    "Basically the scale factor is used to create your scale pyramid More explanation can be found here In \n",
    "1.05 is good possible value for this which means you use a small step for resizing ie.reduce size\n",
    "\n",
    "\n",
    "minNeighbor-Parameter specifying how many neighbour each candidate rectangle should have to retain it\n",
    "this parameter will affect the quality of the dectected faces higher value result in less detections\n",
    "\n",
    "\n",
    "\n",
    "'''"
   ]
  }
 ],
 "metadata": {
  "kernelspec": {
   "display_name": "Python 3",
   "language": "python",
   "name": "python3"
  },
  "language_info": {
   "codemirror_mode": {
    "name": "ipython",
    "version": 3
   },
   "file_extension": ".py",
   "mimetype": "text/x-python",
   "name": "python",
   "nbconvert_exporter": "python",
   "pygments_lexer": "ipython3",
   "version": "3.11.1"
  },
  "orig_nbformat": 4
 },
 "nbformat": 4,
 "nbformat_minor": 2
}
