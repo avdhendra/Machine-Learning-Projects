{
 "cells": [
  {
   "cell_type": "code",
   "execution_count": 5,
   "metadata": {},
   "outputs": [],
   "source": [
    "#Recognising handwriting digits on MNIST Dataset using KNN\n",
    "import pandas as pd\n",
    "import numpy as np\n",
    "import matplotlib.pyplot as plt\n",
    "\n",
    "#Data Preperation\n",
    "df=pd.read_csv(\"train.csv\")\n",
    "df.head()\n",
    "data=df.values\n",
    "X=data[:,1:]\n",
    "Y=data[:,0]\n",
    "\n",
    "\n",
    "#split data 80% for training\n",
    "split=int(0.8*X.shape[0])\n",
    "X_train=X[:split,:]\n",
    "Y_train=Y[:split]\n",
    "X_test=X[split:,:]\n",
    "Y_test=Y[split:]\n"
   ]
  },
  {
   "cell_type": "code",
   "execution_count": 7,
   "metadata": {},
   "outputs": [
    {
     "data": {
      "image/png": "[encoded data removed]",
      "text/plain": [
       "<Figure size 640x480 with 1 Axes>"
      ]
     },
     "metadata": {},
     "output_type": "display_data"
    }
   ],
   "source": [
    "def drawImg(sample):\n",
    "    img=sample.reshape((28,28))\n",
    "    plt.imshow(img)\n",
    "    plt.show()\n",
    "\n",
    "drawImg(X_train[3])"
   ]
  },
  {
   "cell_type": "code",
   "execution_count": 11,
   "metadata": {},
   "outputs": [],
   "source": [
    "#Make Prediction\n",
    "def dist(x1,x2):\n",
    "    return np.sqrt(sum((x1-x2)**2))\n",
    "\n",
    "def knn(X,Y,queryPoint,k=5):\n",
    "    vals=[]\n",
    "    m=X.shape[0]\n",
    "\n",
    "    for i in range(m):\n",
    "        d=dist(queryPoint,X[i])\n",
    "        vals.append((d,Y[i]))\n",
    "    vals=sorted(vals)\n",
    "    #Nearest First K points\n",
    "    vals=vals[:k]\n",
    "    vals=np.array(vals)\n",
    "    new_vals=np.unique(vals[:,1],return_counts=True)\n",
    "    index=new_vals[1].argmax()\n",
    "    pred=new_vals[0][index ]\n",
    "    return pred\n",
    "\n",
    "\n",
    "\n",
    "\n",
    "pred=knn(X_train,Y_train,X_test[1]) "
   ]
  },
  {
   "cell_type": "code",
   "execution_count": null,
   "metadata": {},
   "outputs": [],
   "source": []
  }
 ],
 "metadata": {
  "kernelspec": {
   "display_name": "Python 3",
   "language": "python",
   "name": "python3"
  },
  "language_info": {
   "codemirror_mode": {
    "name": "ipython",
    "version": 3
   },
   "file_extension": ".py",
   "mimetype": "text/x-python",
   "name": "python",
   "nbconvert_exporter": "python",
   "pygments_lexer": "ipython3",
   "version": "3.11.1"
  },
  "orig_nbformat": 4
 },
 "nbformat": 4,
 "nbformat_minor": 2
}
