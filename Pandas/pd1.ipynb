{
 "cells": [
  {
   "cell_type": "code",
   "execution_count": 1,
   "metadata": {},
   "outputs": [
    {
     "name": "stdout",
     "output_type": "stream",
     "text": [
      "{'MarkA': array([19, 11, 13, 51, 62]), 'MarkB': array([74, 62, 70, 98, 75]), 'MarkC': array([68, 65, 39, 48, 31])}\n"
     ]
    }
   ],
   "source": [
    "#Pandas\n",
    "#DataFrame-Special object to data in tabular form(row & column)\n",
    "\n",
    "import numpy as np\n",
    "import pandas as pd\n",
    "\n",
    "user_data={\n",
    "    \"MarkA\":np.random.randint(1,100,5),\n",
    "    \"MarkB\":np.random.randint(50,100,5),\n",
    "    \"MarkC\":np.random.randint(1,100,5)\n",
    "}\n",
    "\n",
    "print(user_data)\n"
   ]
  },
  {
   "cell_type": "code",
   "execution_count": 14,
   "metadata": {},
   "outputs": [
    {
     "data": {
      "text/plain": [
       "98.0"
      ]
     },
     "execution_count": 14,
     "metadata": {},
     "output_type": "execute_result"
    }
   ],
   "source": [
    "df=pd.DataFrame(user_data,dtype=\"float32\")\n",
    "\n",
    "df.to_csv(\"mark.csv\")\n",
    "my_data=pd.read_csv(\"mark.csv\")\n",
    "my_data.describe()\n",
    "\n",
    "# #row\n",
    "df.iloc[3]\n",
    "\n",
    "# #row & col\n",
    "df.iloc[3,1]\n"
   ]
  },
  {
   "cell_type": "code",
   "execution_count": null,
   "metadata": {},
   "outputs": [],
   "source": []
  }
 ],
 "metadata": {
  "kernelspec": {
   "display_name": "Python 3",
   "language": "python",
   "name": "python3"
  },
  "language_info": {
   "codemirror_mode": {
    "name": "ipython",
    "version": 3
   },
   "file_extension": ".py",
   "mimetype": "text/x-python",
   "name": "python",
   "nbconvert_exporter": "python",
   "pygments_lexer": "ipython3",
   "version": "3.11.1"
  },
  "orig_nbformat": 4
 },
 "nbformat": 4,
 "nbformat_minor": 2
}
